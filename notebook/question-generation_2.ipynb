{
 "cells": [
  {
   "cell_type": "code",
   "execution_count": 1,
   "metadata": {},
   "outputs": [],
   "source": [
    "import nltk\n",
    "import string\n",
    "from nltk.wsd import lesk\n",
    "from nltk.corpus import stopwords, wordnet as wn\n",
    "from nltk.tokenize import word_tokenize\n",
    "from nltk.stem import WordNetLemmatizer\n",
    "from rake_nltk import Rake, Metric"
   ]
  },
  {
   "cell_type": "code",
   "execution_count": 2,
   "metadata": {},
   "outputs": [
    {
     "name": "stderr",
     "output_type": "stream",
     "text": [
      "d:\\learnx.ai\\.venv\\lib\\site-packages\\tqdm\\auto.py:21: TqdmWarning: IProgress not found. Please update jupyter and ipywidgets. See https://ipywidgets.readthedocs.io/en/stable/user_install.html\n",
      "  from .autonotebook import tqdm as notebook_tqdm\n"
     ]
    }
   ],
   "source": [
    "from datasets import load_dataset\n",
    "squad = load_dataset(\"squad\")\n",
    "text = squad[\"train\"][\"context\"][0]"
   ]
  },
  {
   "cell_type": "code",
   "execution_count": 155,
   "metadata": {},
   "outputs": [],
   "source": [
    "rake_nltk = Rake(max_length=3, \n",
    "                include_repeated_phrases = False)\n",
    "\n",
    "rake_nltk.extract_keywords_from_text(text)\n",
    "keywords = rake_nltk.get_ranked_phrases()\n",
    "\n",
    "filtered_keywords = set()\n",
    "#punctuation removal from the text followed\n",
    "for i in keywords:\n",
    "    i = i.translate(str.maketrans(\"\",\"\",string.punctuation)).strip()\n",
    "    filtered_keywords.add(i)    \n"
   ]
  },
  {
   "cell_type": "code",
   "execution_count": 164,
   "metadata": {},
   "outputs": [],
   "source": [
    "import random\n",
    "\n",
    "sample = random.sample(filtered_keywords, 5)\n",
    "masked_sentence = []\n",
    "cased_keywords = ([(i.upper(), i.lower(), i.capitalize(), i.title()) for i in sample])\n",
    "temp = text\n",
    "\n",
    "for i,j,k,l in cased_keywords:\n",
    "  temp = temp.replace(i,\"[MASK]\").replace(j,\"[MASK]\").replace(k,\"[MASK]\").replace(l,\"[MASK]\")\n",
    "\n",
    "for i in nltk.sent_tokenize(temp):\n",
    "  if \"[MASK]\" in i:\n",
    "    masked_sentence.append(i)"
   ]
  },
  {
   "cell_type": "code",
   "execution_count": 195,
   "metadata": {},
   "outputs": [
    {
     "name": "stdout",
     "output_type": "stream",
     "text": [
      "0          [MASK] the [MASK]'s gold dome is a golden statue of the Virgin Mary.\n",
      "1          Immediately in front of the [MASK] and facing it, is a copper statue of Christ with [MASK] with the legend \"Venite Ad Me Omnes\".\n",
      "2          Next to the [MASK] is the Basilica of the [MASK].\n",
      "3          At the end of the main drive (and in a direct line that connects through 3 statues and the Gold Dome), is a simple, [MASK] of Mary.\n"
     ]
    }
   ],
   "source": [
    "for i,j in enumerate(masked_sentence):\n",
    "    print(\"{:}{:10}{:}\".format(i,\" \",j))"
   ]
  },
  {
   "cell_type": "code",
   "execution_count": 196,
   "metadata": {},
   "outputs": [],
   "source": [
    "#Keyword extraction using rake-nltk\n",
    "rake_nltk = Rake(max_length = 1, \n",
    "                include_repeated_phrases = False,\n",
    "                punctuations = string.punctuation)\n",
    "\n",
    "rake_nltk.extract_keywords_from_text(text)\n",
    "keywords = rake_nltk.get_ranked_phrases()[:10]\n",
    "\n",
    "#punctuation and stopwords removal from the text followed by lemmatization\n",
    "stop_words = set(stopwords.words(\"english\"))\n",
    "text_no_punc = text.translate(str.maketrans(\"\",\"\",string.punctuation))\n",
    "word_tokens = word_tokenize(text_no_punc.lower())\n",
    "#filtered_sentence = [w for w in word_tokens if not w in stop_words]\n",
    "lemmatizer = WordNetLemmatizer()\n",
    "lemmatized_sentence = [lemmatizer.lemmatize(w) for w in word_tokens]"
   ]
  },
  {
   "cell_type": "code",
   "execution_count": 197,
   "metadata": {},
   "outputs": [],
   "source": [
    "wn_keywords = []\n",
    "wn_definitions = []\n",
    "try:\n",
    "    for i in keywords:\n",
    "        wn_keywords.append(i)\n",
    "        wn_definitions.append(lesk(lemmatized_sentence, i).definition())\n",
    "except AttributeError:\n",
    "    pass"
   ]
  },
  {
   "cell_type": "code",
   "execution_count": 198,
   "metadata": {},
   "outputs": [
    {
     "name": "stdout",
     "output_type": "stream",
     "text": [
      "simple                                                                                              a person lacking intelligence or common sense\n",
      "school                                                                                              the period of instruction in a school; the time period when school is in session\n",
      "prayer                                                                                              copy that is not the original; something that has been copied\n",
      "mary                                                                                                (mathematics) a transformation in which the direction of one axis is reversed\n",
      "next                                                                                                the act of communicating with a deity (especially as a petition or in adoration or contrition or thanksgiving)\n",
      "replica                                                                                             at the time or occasion immediately following\n",
      "lourdes                                                                                             the mother of Jesus; Christians refer to her as the Virgin Mary; she is especially honored by Roman Catholics\n"
     ]
    }
   ],
   "source": [
    "import random\n",
    "\n",
    "sample = random.sample(wn_keywords, len(wn_keywords)-1)\n",
    "try:\n",
    "    for i in range(len(sample)):\n",
    "        print(\"{:100}{:10}\".format(sample[i], wn_definitions[i]))\n",
    "except AttributeError:\n",
    "    pass"
   ]
  },
  {
   "cell_type": "code",
   "execution_count": 19,
   "metadata": {},
   "outputs": [],
   "source": [
    "from transformers import AutoTokenizer, BertForPreTraining\n",
    "\n",
    "checkpoint = \"bert-base-uncased\"\n",
    "tokenizer = AutoTokenizer.from_pretrained(checkpoint)\n",
    "model = BertForPreTraining.from_pretrained(checkpoint)"
   ]
  },
  {
   "cell_type": "code",
   "execution_count": 20,
   "metadata": {},
   "outputs": [
    {
     "data": {
      "text/plain": [
       "'.., my dog is..'"
      ]
     },
     "execution_count": 20,
     "metadata": {},
     "output_type": "execute_result"
    }
   ],
   "source": [
    "import torch\n",
    "inputs = tokenizer(\"Hello, my dog is cute\", return_tensors=\"pt\")\n",
    "outputs = model(**inputs)\n",
    "x = outputs.prediction_logits[0]\n",
    "y = outputs.seq_relationship_logits\n",
    "ids = torch.argmax(x, dim=1)\n",
    "tokenizer.decode(ids)"
   ]
  }
 ],
 "metadata": {
  "kernelspec": {
   "display_name": ".venv",
   "language": "python",
   "name": "python3"
  },
  "language_info": {
   "codemirror_mode": {
    "name": "ipython",
    "version": 3
   },
   "file_extension": ".py",
   "mimetype": "text/x-python",
   "name": "python",
   "nbconvert_exporter": "python",
   "pygments_lexer": "ipython3",
   "version": "3.8.0"
  }
 },
 "nbformat": 4,
 "nbformat_minor": 2
}
