{
 "cells": [
  {
   "cell_type": "code",
   "execution_count": 38,
   "metadata": {},
   "outputs": [
    {
     "data": {
      "text/plain": [
       "<benepar.integrations.spacy_plugin.BeneparComponent at 0x19b0e142100>"
      ]
     },
     "execution_count": 38,
     "metadata": {},
     "output_type": "execute_result"
    }
   ],
   "source": [
    "import re\n",
    "\n",
    "import nltk\n",
    "from nltk import tokenize\n",
    "from nltk.tree import Tree\n",
    "import spacy\n",
    "import benepar\n",
    "\n",
    "nlp = spacy.load(\"en_core_web_md\")\n",
    "nlp.add_pipe(\"benepar\", config={\"model\":\"benepar_en3\"})"
   ]
  },
  {
   "cell_type": "code",
   "execution_count": 29,
   "metadata": {},
   "outputs": [
    {
     "name": "stderr",
     "output_type": "stream",
     "text": [
      "You're using a T5TokenizerFast tokenizer. Please note that with a fast tokenizer, using the `__call__` method is faster than using a method to encode the text followed by a call to the `pad` method to get a padded encoding.\n",
      "d:\\learnx.ai\\.venv\\lib\\site-packages\\torch\\distributions\\distribution.py:53: UserWarning: <class 'torch_struct.distributions.TreeCRF'> does not define `arg_constraints`. Please set `arg_constraints = {}` or initialize the distribution with `validate_args=False` to turn off validation.\n",
      "  warnings.warn(\n"
     ]
    },
    {
     "name": "stdout",
     "output_type": "stream",
     "text": [
      "(NP (NP (NNP Kalki)) (, ,) (NP (NP (JJ final) (NN avatar)) (-LRB- -LRB-) (NP (NN incarnation)) (-RRB- -RRB-) (PP (IN of) (NP (NP (NP (DT the) (JJ Hindu) (NN god)) (NP (NNP Vishnu))) (, ,) (SBAR (WHNP (WP who)) (S (VP (VBZ is) (ADVP (RB yet)) (S (VP (TO to) (VP (VB appear)))))))))))\n"
     ]
    }
   ],
   "source": [
    "doc = nlp(\"Kalki, final avatar (incarnation) of the Hindu god Vishnu, who is yet to appear\")\n",
    "sent = list(doc.sents)[0]\n",
    "print(sent._.parse_string)"
   ]
  },
  {
   "cell_type": "code",
   "execution_count": 30,
   "metadata": {},
   "outputs": [
    {
     "name": "stdout",
     "output_type": "stream",
     "text": [
      "('NP',)\n"
     ]
    }
   ],
   "source": [
    "print(sent._.labels)"
   ]
  },
  {
   "cell_type": "code",
   "execution_count": 31,
   "metadata": {},
   "outputs": [
    {
     "data": {
      "text/plain": [
       "[]"
      ]
     },
     "execution_count": 31,
     "metadata": {},
     "output_type": "execute_result"
    }
   ],
   "source": [
    "list((list(sent._.children)[1])._.children)"
   ]
  },
  {
   "cell_type": "code",
   "execution_count": 32,
   "metadata": {},
   "outputs": [
    {
     "name": "stdout",
     "output_type": "stream",
     "text": [
      "            NP                                                                                                   \n",
      "   _________|_________________________                                                                            \n",
      "  |    |                              NP                                                                         \n",
      "  |    |          ____________________|______________________                                                     \n",
      "  |    |         |           |        |        |             PP                                                  \n",
      "  |    |         |           |        |        |     ________|___________________                                 \n",
      "  |    |         |           |        |        |    |                            NP                              \n",
      "  |    |         |           |        |        |    |              ______________|________                        \n",
      "  |    |         |           |        |        |    |             |              |       SBAR                    \n",
      "  |    |         |           |        |        |    |             |              |    ____|____                   \n",
      "  |    |         |           |        |        |    |             |              |   |         S                 \n",
      "  |    |         |           |        |        |    |             |              |   |         |                  \n",
      "  |    |         |           |        |        |    |             |              |   |         VP                \n",
      "  |    |         |           |        |        |    |             |              |   |     ____|________          \n",
      "  |    |         |           |        |        |    |             |              |   |    |    |        S        \n",
      "  |    |         |           |        |        |    |             |              |   |    |    |        |         \n",
      "  |    |         |           |        |        |    |             NP             |   |    |    |        VP       \n",
      "  |    |         |           |        |        |    |         ____|________      |   |    |    |     ___|____     \n",
      "  NP   |         NP          |        NP       |    |        NP            NP    |  WHNP  |   ADVP  |        VP  \n",
      "  |    |     ____|____       |        |        |    |    ____|________     |     |   |    |    |    |        |    \n",
      " NNP   ,    JJ        NN   -LRB-      NN     -RRB-  IN  DT   JJ       NN  NNP    ,   WP  VBZ   RB   TO       VB  \n",
      "  |    |    |         |      |        |        |    |   |    |        |    |     |   |    |    |    |        |    \n",
      "Kalki  ,  final     avatar -LRB- incarnation -RRB-  of the Hindu     god Vishnu  ,  who   is  yet   to     appear\n",
      "\n",
      "None\n"
     ]
    }
   ],
   "source": [
    "tree = Tree.fromstring(sent._.parse_string)\n",
    "print(tree.pretty_print())"
   ]
  },
  {
   "cell_type": "code",
   "execution_count": 33,
   "metadata": {},
   "outputs": [
    {
     "name": "stdout",
     "output_type": "stream",
     "text": [
      "  NP \n",
      "  |   \n",
      " NNP \n",
      "  |   \n",
      "Kalki\n",
      "\n",
      " , \n",
      " |  \n",
      " , \n",
      "\n",
      "                            NP                                                                         \n",
      "        ____________________|______________________                                                     \n",
      "       |           |        |        |             PP                                                  \n",
      "       |           |        |        |     ________|___________________                                 \n",
      "       |           |        |        |    |                            NP                              \n",
      "       |           |        |        |    |              ______________|________                        \n",
      "       |           |        |        |    |             |              |       SBAR                    \n",
      "       |           |        |        |    |             |              |    ____|____                   \n",
      "       |           |        |        |    |             |              |   |         S                 \n",
      "       |           |        |        |    |             |              |   |         |                  \n",
      "       |           |        |        |    |             |              |   |         VP                \n",
      "       |           |        |        |    |             |              |   |     ____|________          \n",
      "       |           |        |        |    |             |              |   |    |    |        S        \n",
      "       |           |        |        |    |             |              |   |    |    |        |         \n",
      "       |           |        |        |    |             NP             |   |    |    |        VP       \n",
      "       |           |        |        |    |         ____|________      |   |    |    |     ___|____     \n",
      "       NP          |        NP       |    |        NP            NP    |  WHNP  |   ADVP  |        VP  \n",
      "   ____|____       |        |        |    |    ____|________     |     |   |    |    |    |        |    \n",
      "  JJ        NN   -LRB-      NN     -RRB-  IN  DT   JJ       NN  NNP    ,   WP  VBZ   RB   TO       VB  \n",
      "  |         |      |        |        |    |   |    |        |    |     |   |    |    |    |        |    \n",
      "final     avatar -LRB- incarnation -RRB-  of the Hindu     god Vishnu  ,  who   is  yet   to     appear\n",
      "\n"
     ]
    }
   ],
   "source": [
    "temp1 = tree[0]\n",
    "temp2 = tree[1]\n",
    "temp3 = tree[-1]\n",
    "temp1.pretty_print()\n",
    "temp2.pretty_print()\n",
    "temp3.pretty_print()"
   ]
  },
  {
   "cell_type": "code",
   "execution_count": 34,
   "metadata": {},
   "outputs": [],
   "source": [
    "#split at rightmost NP or VP\n",
    "\n",
    "def get_flattened(t):\n",
    "    sent_str_final = None\n",
    "    if t is not None:\n",
    "        sent_str = [\" \".join(x.leaves()) for x in list(t)]\n",
    "        sent_str_final = [\" \".join(sent_str)]\n",
    "        sent_str_final = sent_str_final[0]\n",
    "    return sent_str_final"
   ]
  },
  {
   "cell_type": "code",
   "execution_count": 35,
   "metadata": {},
   "outputs": [],
   "source": [
    "def get_rvp_nvp(parse_tree, last_np = None, last_vp = None):\n",
    "\n",
    "    if len(parse_tree.leaves()) == 1:\n",
    "        return last_np, last_vp\n",
    "    last_subtree = parse_tree[-1]\n",
    "    if last_subtree.label() == \"NP\":\n",
    "        last_np = last_subtree\n",
    "    elif last_subtree.label() == \"VP\":\n",
    "        last_vp = last_subtree\n",
    "    return get_rvp_nvp(last_subtree, last_np, last_vp)"
   ]
  },
  {
   "cell_type": "code",
   "execution_count": 36,
   "metadata": {},
   "outputs": [
    {
     "name": "stdout",
     "output_type": "stream",
     "text": [
      "the Hindu god Vishnu , who is yet to appear\n",
      "appear\n"
     ]
    }
   ],
   "source": [
    "last_np, last_vp = get_rvp_nvp(tree)\n",
    "last_np_flattened = get_flattened(last_np)\n",
    "last_vp_flattened = get_flattened(last_vp)\n",
    "print(last_np_flattened)\n",
    "print(last_vp_flattened)"
   ]
  },
  {
   "cell_type": "code",
   "execution_count": 12,
   "metadata": {},
   "outputs": [],
   "source": [
    "def get_termination_portion(main_string, sub_string):\n",
    "    combined_sub_string = sub_string.replace(\" \",\"\")\n",
    "    main_string_list = main_string.split()\n",
    "    last_index = len(main_string_list)\n",
    "    for i in range(last_index):\n",
    "        check_string_list = main_string_list[i:]\n",
    "        check_string = \"\".join(check_string_list)\n",
    "        check_string = check_string.replace(\" \",\"\")\n",
    "        if check_string == combined_sub_string:\n",
    "            return \" \".join(main_string_list[:i])\n",
    "        \n",
    "    return None"
   ]
  },
  {
   "cell_type": "code",
   "execution_count": 40,
   "metadata": {},
   "outputs": [
    {
     "name": "stdout",
     "output_type": "stream",
     "text": [
      "the Hindu god Vishnu , who is yet to appear\n"
     ]
    }
   ],
   "source": [
    "longest_phrase = max(last_np_flattened, last_vp_flattened)\n",
    "print(longest_phrase)"
   ]
  },
  {
   "cell_type": "code",
   "execution_count": 41,
   "metadata": {},
   "outputs": [],
   "source": [
    "longest_phrase = re.sub(r\"-LRB-\", \"(\", longest_phrase)\n",
    "longest_phrase = re.sub(r\"-RRB-\", \")\", longest_phrase)"
   ]
  },
  {
   "cell_type": "code",
   "execution_count": 42,
   "metadata": {},
   "outputs": [
    {
     "data": {
      "text/plain": [
       "'the Hindu god Vishnu , who is yet to appear'"
      ]
     },
     "execution_count": 42,
     "metadata": {},
     "output_type": "execute_result"
    }
   ],
   "source": [
    "longest_phrase"
   ]
  },
  {
   "cell_type": "code",
   "execution_count": 43,
   "metadata": {},
   "outputs": [],
   "source": [
    "split_sentence = get_termination_portion(\"The old woman was sitting under a tree and sipping coffee\", longest_phrase)"
   ]
  },
  {
   "cell_type": "code",
   "execution_count": 44,
   "metadata": {},
   "outputs": [],
   "source": [
    "from transformers import GPT2Tokenizer, GPT2LMHeadModel\n",
    "\n",
    "GPT2_tokenizer = GPT2Tokenizer.from_pretrained('gpt2')\n",
    "GPT2_model = GPT2LMHeadModel.from_pretrained('gpt2', pad_token_id=GPT2_tokenizer.eos_token_id)"
   ]
  },
  {
   "cell_type": "code",
   "execution_count": 45,
   "metadata": {},
   "outputs": [
    {
     "name": "stdout",
     "output_type": "stream",
     "text": [
      "tensor([[ 464, 1468, 2415,  373, 5586,  739,  257, 5509,  290]])\n"
     ]
    }
   ],
   "source": [
    "partial_sentence = \"The old woman was sitting under a tree and\"\n",
    "input_ids = GPT2_tokenizer.encode(partial_sentence, return_tensors='pt')\n",
    "print(input_ids)\n",
    "maximum_length = len(partial_sentence.split())+40"
   ]
  },
  {
   "cell_type": "code",
   "execution_count": 46,
   "metadata": {},
   "outputs": [
    {
     "name": "stderr",
     "output_type": "stream",
     "text": [
      "The attention mask is not set and cannot be inferred from input because pad token is same as eos token.As a consequence, you may observe unexpected behavior. Please pass your input's `attention_mask` to obtain reliable results.\n"
     ]
    }
   ],
   "source": [
    "#Activate top_k sampling and top_p sampling with only from 90% most likely words\n",
    "\n",
    "sample_outputs = GPT2_model.generate(input_ids, do_sample=True, max_length=maximum_length, top_k=60, top_p=0.8, repetition_penalty=10.0, num_return_sequences=12)\n"
   ]
  },
  {
   "cell_type": "code",
   "execution_count": 47,
   "metadata": {},
   "outputs": [
    {
     "name": "stdout",
     "output_type": "stream",
     "text": [
      "The old woman was sitting under a tree and the man in black, his hair tied behind him.\n",
      "The old woman was sitting under a tree and her hands were trembling with fear.\n",
      "The old woman was sitting under a tree and waiting for the young man to come, but she turned her head towards him.\n",
      "The old woman was sitting under a tree and she looked down at the ground, then turned her head back towards their home.\n",
      "The old woman was sitting under a tree and staring at her watch.\n",
      "The old woman was sitting under a tree and had been watching from afar.\n",
      "The old woman was sitting under a tree and looked up at the sky.\n",
      "The old woman was sitting under a tree and sat down, looking at me.\n",
      "The old woman was sitting under a tree and the new man with his cane had come in.\n",
      "The old woman was sitting under a tree and had already left for her own protection.\n",
      "The old woman was sitting under a tree and looked at the snowman in front of her.\n",
      "The old woman was sitting under a tree and looked out through the window.\n"
     ]
    }
   ],
   "source": [
    "generated_sentences = []\n",
    "for i,sample_output in enumerate(sample_outputs):\n",
    "  decoded_sentence = GPT2_tokenizer.decode(sample_output, skip_special_tokens=True)\n",
    "  final_sentence = tokenize.sent_tokenize(decoded_sentence)[0]\n",
    "  generated_sentences.append(final_sentence)\n",
    "  print(final_sentence)"
   ]
  }
 ],
 "metadata": {
  "kernelspec": {
   "display_name": ".venv",
   "language": "python",
   "name": "python3"
  },
  "language_info": {
   "codemirror_mode": {
    "name": "ipython",
    "version": 3
   },
   "file_extension": ".py",
   "mimetype": "text/x-python",
   "name": "python",
   "nbconvert_exporter": "python",
   "pygments_lexer": "ipython3",
   "version": "3.8.0"
  }
 },
 "nbformat": 4,
 "nbformat_minor": 2
}
